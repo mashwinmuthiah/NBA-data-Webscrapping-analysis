{
 "cells": [
  {
   "cell_type": "code",
   "execution_count": 3,
   "metadata": {},
   "outputs": [],
   "source": [
    "import requests\n",
    "from bs4 import BeautifulSoup\n",
    "import pandas as pd"
   ]
  },
  {
   "cell_type": "code",
   "execution_count": 4,
   "metadata": {},
   "outputs": [],
   "source": [
    "head_coaches_data = {\n",
    " 'Name': [],\n",
    " 'Teams': [],\n",
    " 'Start season': [],\n",
    " 'End season': [],\n",
    " 'Years in rule': [],\n",
    " 'Birth Date': [],\n",
    " 'Nationality': []\n",
    "}"
   ]
  },
  {
   "cell_type": "code",
   "execution_count": 5,
   "metadata": {},
   "outputs": [],
   "source": [
    "head_coaches_url = 'https://basketball.realgm.com/nba/staff-members/20/Head-Coach/Historical'\n",
    "  \n",
    "page = requests.get(head_coaches_url)\n",
    "soup = BeautifulSoup(page.text, 'html.parser')\n",
    "tables = soup.find_all('table')\n",
    "\n",
    "rows = tables[0].findAll('tr')[1:]\n",
    "\n",
    "for row in rows:\n",
    "    cols = row.findAll('td')\n",
    "    head_coaches_data['Name'].append(cols[0].string)\n",
    "    head_coaches_data['Teams'].append(cols[1].get_text())\n",
    "    head_coaches_data['Start season'].append(cols[2].string)\n",
    "    head_coaches_data['End season'].append(cols[3].string)\n",
    "    head_coaches_data['Years in rule'].append(cols[4].string)\n",
    "    head_coaches_data['Birth Date'].append(cols[5].string)\n",
    "    head_coaches_data['Nationality'].append(cols[6].string)\n",
    "\n",
    "    \n",
    "df_head_coaches = pd.DataFrame(head_coaches_data)\n"
   ]
  },
  {
   "cell_type": "code",
   "execution_count": 6,
   "metadata": {},
   "outputs": [],
   "source": [
    "df_head_coaches['Start season short'] = df_head_coaches['Start season'].str[:4]\n",
    "df_head_coaches['End season short'] = df_head_coaches['End season'].str[:4]\n",
    "df_head_coaches['Num of teams'] = df_head_coaches['Teams'].str.split().str.len()"
   ]
  },
  {
   "cell_type": "code",
   "execution_count": 7,
   "metadata": {},
   "outputs": [],
   "source": [
    "df_head_coaches.to_csv('NBA_head_coaches.csv', index=False)"
   ]
  },
  {
   "cell_type": "code",
   "execution_count": null,
   "metadata": {},
   "outputs": [],
   "source": []
  }
 ],
 "metadata": {
  "kernelspec": {
   "display_name": "Python 3",
   "language": "python",
   "name": "python3"
  },
  "language_info": {
   "codemirror_mode": {
    "name": "ipython",
    "version": 3
   },
   "file_extension": ".py",
   "mimetype": "text/x-python",
   "name": "python",
   "nbconvert_exporter": "python",
   "pygments_lexer": "ipython3",
   "version": "3.7.1"
  }
 },
 "nbformat": 4,
 "nbformat_minor": 2
}
