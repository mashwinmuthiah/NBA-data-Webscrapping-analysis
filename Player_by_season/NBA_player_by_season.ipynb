{
 "cells": [
  {
   "cell_type": "code",
   "execution_count": 2,
   "metadata": {},
   "outputs": [],
   "source": [
    "import requests\n",
    "from bs4 import BeautifulSoup\n",
    "import pandas as pd"
   ]
  },
  {
   "cell_type": "code",
   "execution_count": null,
   "metadata": {},
   "outputs": [],
   "source": [
    "# Original data is available from season 1946-7\n",
    "# I decided to collect data from the first season with shot clock\n",
    "from_year = 1955\n",
    "to_year = 2018\n",
    "\n",
    "players = {\n",
    " 'Season short': [],\n",
    " 'Season': [],\n",
    " 'Player': [],\n",
    " 'Position': [],\n",
    " 'Height': [],\n",
    " 'Weight': [],\n",
    " 'Age': [],\n",
    " 'Team': [],\n",
    " 'GP': [],\n",
    " 'Seasons': [],\n",
    " 'pre draft team': [],\n",
    " 'Draft status': [],\n",
    " 'Nationality': []\n",
    "}\n",
    "\n",
    "for year in range(from_year,to_year):\n",
    "    season_short = str(year)\n",
    "    season = str(year - 1) + \"-\" + season_short\n",
    "    players_url = 'https://basketball.realgm.com/nba/players/{}'.format(season_short)\n",
    "  \n",
    "    page = requests.get(players_url)\n",
    "    soup = BeautifulSoup(page.text, 'html.parser')\n",
    "    tables = soup.find_all('table')\n",
    "\n",
    "    rows = tables[0].findAll('tr')[1:]\n",
    "    for row in rows:\n",
    "        cols = row.findAll('td')\n",
    "        players['Season short'].append(season_short)\n",
    "        players['Season'].append(season)\n",
    "        players['Player'].append(cols[0].string)\n",
    "        players['Position'].append(cols[1].string)\n",
    "        players['Height'].append(cols[2].string)\n",
    "        players['Weight'].append(cols[3].string)\n",
    "        players['Age'].append(cols[4].string)        \n",
    "        players['Team'].append(cols[5].string)\n",
    "        players['GP'].append(cols[6].string)\n",
    "        players['Seasons'].append(cols[7].string)\n",
    "        players['pre draft team'].append(cols[8].string)\n",
    "        players['Draft status'].append(cols[9].string)\n",
    "        players['Nationality'].append(cols[10].string)\n",
    "\n",
    "df_players = pd.DataFrame(players)"
   ]
  },
  {
   "cell_type": "code",
   "execution_count": null,
   "metadata": {},
   "outputs": [],
   "source": [
    "seasons_games = {\n",
    " 'Season short': [],\n",
    " 'Games': []\n",
    "}\n",
    "\n",
    "wiki_seasons_url = 'https://en.wikipedia.org/wiki/List_of_National_Basketball_Association_seasons'\n",
    "\n",
    "page = requests.get(wiki_seasons_url)\n",
    "soup = BeautifulSoup(page.text, 'html.parser')\n",
    "tables = soup.find_all('table')\n",
    "\n",
    "rows = tables[0].findAll('tr')[2:]\n",
    "for row in rows:\n",
    "    cols = row.findAll('td')\n",
    "    seasons_games['Season short'].append(cols[3].text[:4])\n",
    "    seasons_games['Games'].append(cols[9].string[-3:-1]) # when there is a range of gaes we take the higher\n",
    "\n",
    "df_seasons_games = pd.DataFrame(seasons_games)"
   ]
  },
  {
   "cell_type": "code",
   "execution_count": null,
   "metadata": {},
   "outputs": [],
   "source": [
    "df_players_combined = pd.merge(df_players, df_seasons_games, on=[\"Season short\"], how='left')\n",
    "df_players_combined['GP'] = pd.to_numeric(df_players_combined['GP'],errors='coerce')\n",
    "df_players_combined['Games'] = pd.to_numeric(df_players_combined['Games'],errors='coerce')\n",
    "df_players_combined['Games missed'] = df_players_combined['Games'] - df_players_combined['GP']"
   ]
  },
  {
   "cell_type": "code",
   "execution_count": null,
   "metadata": {},
   "outputs": [],
   "source": [
    "# Height in CM\n",
    "def parse_height_to_cm(height):\n",
    "    ht_ = height.split('-')\n",
    "    feet_ = float(ht_[0])\n",
    "    inch_ = float(ht_[1])\n",
    "    return int((12*feet_+ inch_) * 2.54)\n",
    "\n",
    "df_players_combined['Height [cm]'] = df_players_combined['Height'].apply(lambda x: parse_height_to_cm(x) if (len(x) > 1) else None)"
   ]
  },
  {
   "cell_type": "code",
   "execution_count": null,
   "metadata": {},
   "outputs": [],
   "source": [
    "# Weight in KG\n",
    "df_players_combined['Weight'] = pd.to_numeric(df_players_combined['Weight'],errors='coerce')\n",
    "df_players_combined['Weight [kg]'] = df_players_combined['Weight'].apply(lambda x: x / 2.2 if (x is not None) else None)"
   ]
  },
  {
   "cell_type": "code",
   "execution_count": null,
   "metadata": {},
   "outputs": [],
   "source": [
    "# BMI - body Mass Index\n",
    "df_players_combined['BMI'] = df_players_combined.apply(\n",
    "    lambda row: row['Weight [kg]']/((row['Height [cm]']**2)/10000), axis=1)"
   ]
  },
  {
   "cell_type": "code",
   "execution_count": null,
   "metadata": {},
   "outputs": [],
   "source": [
    "df_players_combined.to_csv('NBA_players_history.csv', index=False)"
   ]
  },
  {
   "cell_type": "code",
   "execution_count": null,
   "metadata": {},
   "outputs": [],
   "source": []
  }
 ],
 "metadata": {
  "kernelspec": {
   "display_name": "Python 3",
   "language": "python",
   "name": "python3"
  },
  "language_info": {
   "codemirror_mode": {
    "name": "ipython",
    "version": 3
   },
   "file_extension": ".py",
   "mimetype": "text/x-python",
   "name": "python",
   "nbconvert_exporter": "python",
   "pygments_lexer": "ipython3",
   "version": "3.7.1"
  }
 },
 "nbformat": 4,
 "nbformat_minor": 2
}
